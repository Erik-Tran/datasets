{
 "cells": [
  {
   "cell_type": "code",
   "execution_count": 28,
   "metadata": {},
   "outputs": [
    {
     "ename": "IndentationError",
     "evalue": "unexpected indent (largescale_lung_ct.py, line 65)",
     "output_type": "error",
     "traceback": [
      "Traceback \u001b[0;36m(most recent call last)\u001b[0m:\n",
      "  File \u001b[1;32m\"/opt/conda/lib/python3.7/site-packages/IPython/core/interactiveshell.py\"\u001b[0m, line \u001b[1;32m3417\u001b[0m, in \u001b[1;35mrun_code\u001b[0m\n    exec(code_obj, self.user_global_ns, self.user_ns)\n",
      "  File \u001b[1;32m\"<ipython-input-28-46a8a2031c9c>\"\u001b[0m, line \u001b[1;32m1\u001b[0m, in \u001b[1;35m<module>\u001b[0m\n    import tensorflow_datasets as tfds\n",
      "  File \u001b[1;32m\"/home/jupyter/datasets/tensorflow_datasets/__init__.py\"\u001b[0m, line \u001b[1;32m51\u001b[0m, in \u001b[1;35m<module>\u001b[0m\n    from tensorflow_datasets import __init__py3 as api\n",
      "  File \u001b[1;32m\"/home/jupyter/datasets/tensorflow_datasets/__init__py3.py\"\u001b[0m, line \u001b[1;32m48\u001b[0m, in \u001b[1;35m<module>\u001b[0m\n    from tensorflow_datasets import image\n",
      "\u001b[0;36m  File \u001b[0;32m\"/home/jupyter/datasets/tensorflow_datasets/image/__init__.py\"\u001b[0;36m, line \u001b[0;32m105\u001b[0;36m, in \u001b[0;35m<module>\u001b[0;36m\u001b[0m\n\u001b[0;31m    from tensorflow_datasets.image.largescale_lung_ct import LargescaleLungCt  # TODO(largescale_lung_ct) Sort alphabetically\u001b[0m\n",
      "\u001b[0;36m  File \u001b[0;32m\"/home/jupyter/datasets/tensorflow_datasets/image/largescale_lung_ct.py\"\u001b[0;36m, line \u001b[0;32m65\u001b[0m\n\u001b[0;31m    manual_dir = 'home/Jupyter/large_lung_ct'\u001b[0m\n\u001b[0m    ^\u001b[0m\n\u001b[0;31mIndentationError\u001b[0m\u001b[0;31m:\u001b[0m unexpected indent\n"
     ]
    }
   ],
   "source": [
    "import tensorflow_datasets as tfds"
   ]
  },
  {
   "cell_type": "code",
   "execution_count": null,
   "metadata": {},
   "outputs": [],
   "source": []
  },
  {
   "cell_type": "code",
   "execution_count": null,
   "metadata": {},
   "outputs": [],
   "source": []
  }
 ],
 "metadata": {
  "environment": {
   "name": "tf2-2-3-gpu.2-3.m55",
   "type": "gcloud",
   "uri": "gcr.io/deeplearning-platform-release/tf2-2-3-gpu.2-3:m55"
  },
  "kernelspec": {
   "display_name": "Python 3",
   "language": "python",
   "name": "python3"
  },
  "language_info": {
   "codemirror_mode": {
    "name": "ipython",
    "version": 3
   },
   "file_extension": ".py",
   "mimetype": "text/x-python",
   "name": "python",
   "nbconvert_exporter": "python",
   "pygments_lexer": "ipython3",
   "version": "3.7.8"
  }
 },
 "nbformat": 4,
 "nbformat_minor": 4
}
